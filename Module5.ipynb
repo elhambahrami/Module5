{
 "cells": [
  {
   "cell_type": "markdown",
   "metadata": {},
   "source": [
    "### Elham Bahrami\n",
    "### 9/29/2019\n",
    "### I am going to use water_Consumption_In_The_New_York_City data set to calculate average, standard deviation<br> of water consumption per capita and also the maximum of water consumption."
   ]
  },
  {
   "cell_type": "markdown",
   "metadata": {},
   "source": [
    "### First we should import the downloaded data as an array."
   ]
  },
  {
   "cell_type": "code",
   "execution_count": 6,
   "metadata": {},
   "outputs": [],
   "source": [
    "import numpy as np\n",
    "r = np.genfromtxt('/Users/elham/Downloads/Water_Consumption_In_The_New_York_City.csv', delimiter=',', skip_header=1)"
   ]
  },
  {
   "cell_type": "code",
   "execution_count": 7,
   "metadata": {},
   "outputs": [
    {
     "data": {
      "text/plain": [
       "array([[1.9790000e+03, 7.1021000e+06, 1.5120000e+03, 2.1300000e+02],\n",
       "       [1.9800000e+03, 7.0716390e+06, 1.5060000e+03, 2.1300000e+02],\n",
       "       [1.9810000e+03, 7.0892410e+06, 1.3090000e+03, 1.8500000e+02],\n",
       "       [1.9820000e+03, 7.1091050e+06, 1.3820000e+03, 1.9400000e+02],\n",
       "       [1.9830000e+03, 7.1812240e+06, 1.4240000e+03, 1.9800000e+02],\n",
       "       [1.9840000e+03, 7.2345140e+06, 1.4650000e+03, 2.0300000e+02],\n",
       "       [1.9850000e+03, 7.2740540e+06, 1.3260000e+03, 1.8200000e+02],\n",
       "       [1.9860000e+03, 7.3192460e+06, 1.3510000e+03, 1.8500000e+02],\n",
       "       [1.9870000e+03, 7.3424760e+06, 1.4470000e+03, 1.9700000e+02],\n",
       "       [1.9880000e+03, 7.3537190e+06, 1.4840000e+03, 2.0200000e+02],\n",
       "       [1.9890000e+03, 7.3441750e+06, 1.4020000e+03, 1.9100000e+02],\n",
       "       [1.9900000e+03, 7.3356500e+06, 1.4240000e+03, 1.9400000e+02],\n",
       "       [1.9910000e+03, 7.3745010e+06, 1.4690000e+03, 1.9900000e+02],\n",
       "       [1.9920000e+03, 7.4289440e+06, 1.3690000e+03, 1.8400000e+02],\n",
       "       [1.9930000e+03, 7.5061660e+06, 1.3685000e+03, 1.8200000e+02],\n",
       "       [1.9940000e+03, 7.5704580e+06, 1.3577000e+03, 1.7900000e+02],\n",
       "       [1.9950000e+03, 7.6330400e+06, 1.3257000e+03, 1.7400000e+02],\n",
       "       [1.9960000e+03, 7.6978120e+06, 1.2979000e+03, 1.6900000e+02],\n",
       "       [1.9970000e+03, 7.7734430e+06, 1.2055000e+03, 1.5500000e+02],\n",
       "       [1.9980000e+03, 7.8582590e+06, 1.2195000e+03, 1.5500000e+02],\n",
       "       [1.9990000e+03, 7.9476600e+06, 1.2372000e+03, 1.5600000e+02],\n",
       "       [2.0000000e+03, 8.0082780e+06, 1.2404000e+03, 1.5500000e+02],\n",
       "       [2.0010000e+03, 8.0249635e+06, 1.1840000e+03, 1.4800000e+02],\n",
       "       [2.0020000e+03, 8.0416490e+06, 1.1356000e+03, 1.4100000e+02],\n",
       "       [2.0030000e+03, 8.0583345e+06, 1.0937000e+03, 1.3600000e+02],\n",
       "       [2.0040000e+03, 8.0750200e+06, 1.0995000e+03, 1.3600000e+02],\n",
       "       [2.0050000e+03, 8.0917055e+06, 1.1380000e+03, 1.4100000e+02],\n",
       "       [2.0060000e+03, 8.1083910e+06, 1.0690000e+03, 1.3200000e+02],\n",
       "       [2.0070000e+03, 8.1250765e+06, 1.1140000e+03, 1.3700000e+02],\n",
       "       [2.0080000e+03, 8.1417620e+06, 1.0980000e+03, 1.3500000e+02],\n",
       "       [2.0090000e+03, 8.1584475e+06, 1.0075000e+03, 1.2300000e+02],\n",
       "       [2.0100000e+03, 8.1751330e+06, 1.0390000e+03, 1.2700000e+02],\n",
       "       [2.0110000e+03, 8.2729630e+06, 1.0210000e+03, 1.2300000e+02],\n",
       "       [2.0120000e+03, 8.3480320e+06, 1.0091000e+03, 1.2100000e+02],\n",
       "       [2.0130000e+03, 8.3987390e+06, 1.0061000e+03, 1.2000000e+02],\n",
       "       [2.0140000e+03, 8.4373870e+06, 9.9600000e+02, 1.1800000e+02],\n",
       "       [2.0150000e+03, 8.4681810e+06, 1.0090000e+03, 1.1900000e+02],\n",
       "       [2.0160000e+03, 8.4759760e+06, 1.0020000e+03, 1.1800000e+02],\n",
       "       [2.0170000e+03, 8.4382710e+06, 9.9020000e+02, 1.1700000e+02],\n",
       "       [2.0180000e+03, 8.3987480e+06, 1.0075000e+03, 1.2000000e+02]])"
      ]
     },
     "execution_count": 7,
     "metadata": {},
     "output_type": "execute_result"
    }
   ],
   "source": [
    "r"
   ]
  },
  {
   "cell_type": "markdown",
   "metadata": {},
   "source": [
    "### Just to make sure type of the array"
   ]
  },
  {
   "cell_type": "code",
   "execution_count": 8,
   "metadata": {},
   "outputs": [
    {
     "data": {
      "text/plain": [
       "numpy.ndarray"
      ]
     },
     "execution_count": 8,
     "metadata": {},
     "output_type": "execute_result"
    }
   ],
   "source": [
    "type(r)"
   ]
  },
  {
   "cell_type": "markdown",
   "metadata": {},
   "source": [
    "### Maximum of water consumption"
   ]
  },
  {
   "cell_type": "code",
   "execution_count": 13,
   "metadata": {},
   "outputs": [
    {
     "data": {
      "text/plain": [
       "1512.0"
      ]
     },
     "execution_count": 13,
     "metadata": {},
     "output_type": "execute_result"
    }
   ],
   "source": [
    "r[:,2].max()"
   ]
  },
  {
   "cell_type": "markdown",
   "metadata": {},
   "source": [
    "### Finding how many years are there in the data set"
   ]
  },
  {
   "cell_type": "code",
   "execution_count": 51,
   "metadata": {},
   "outputs": [
    {
     "name": "stdout",
     "output_type": "stream",
     "text": [
      "40\n"
     ]
    }
   ],
   "source": [
    "y = r[:,0].shape[0]\n",
    "print(y)"
   ]
  },
  {
   "cell_type": "markdown",
   "metadata": {},
   "source": [
    "### Finding the avrage and standard of deviation of per capita"
   ]
  },
  {
   "cell_type": "code",
   "execution_count": 31,
   "metadata": {},
   "outputs": [],
   "source": [
    "std_loc = r[:,3].std()"
   ]
  },
  {
   "cell_type": "code",
   "execution_count": 32,
   "metadata": {},
   "outputs": [],
   "source": [
    "mean_loc = r[:,3].mean()"
   ]
  },
  {
   "cell_type": "code",
   "execution_count": 29,
   "metadata": {},
   "outputs": [],
   "source": [
    "number_of_days = round(y*365.25)"
   ]
  },
  {
   "cell_type": "code",
   "execution_count": 48,
   "metadata": {},
   "outputs": [],
   "source": [
    "simulated_daily_use_array = np.random.normal(size=number_of_days, loc=mean_loc, scale=std_loc)\n",
    "simulated_daily_use_list  = list(simulated_daily_use_array)"
   ]
  },
  {
   "cell_type": "code",
   "execution_count": 49,
   "metadata": {},
   "outputs": [],
   "source": [
    "pop_diff = np.diff(r[:,1])"
   ]
  },
  {
   "cell_type": "code",
   "execution_count": 50,
   "metadata": {},
   "outputs": [
    {
     "name": "stdout",
     "output_type": "stream",
     "text": [
      "Time for loop: 3.8018012010002167\n",
      "Time for list comprehension: 1.7720014229998924\n",
      "Time for numpy vectorized operation: 0.03713823699990826\n"
     ]
    }
   ],
   "source": [
    "from timeit import timeit\n",
    "import math\n",
    "\n",
    "def sqrt_1():\n",
    "    # This one uses a loop.  Slow!\n",
    "    sqrt_1 = [] \n",
    "    for i in range(0, len(simulated_daily_use_list)-1):  \n",
    "        sqrt_1.append(math.sqrt(simulated_daily_use_list[i]))\n",
    "    return(sqrt_1)\n",
    "\n",
    "def sqrt_2():\n",
    "    # This one uses list comprehension. Better!\n",
    "    return([math.sqrt(x) for x in simulated_daily_use_list])\n",
    "\n",
    "def sqrt_3():\n",
    "    # This one uses numpy.  Best!\n",
    "    return(np.sqrt(simulated_daily_use_array))\n",
    "\n",
    "print(\"Time for loop: \" + str(timeit(sqrt_1, number = 1000)))\n",
    "print(\"Time for list comprehension: \" + str(timeit(sqrt_2, number = 1000)))\n",
    "print(\"Time for numpy vectorized operation: \" + str(timeit(sqrt_3, number = 1000)))"
   ]
  },
  {
   "cell_type": "code",
   "execution_count": 21,
   "metadata": {},
   "outputs": [
    {
     "data": {
      "text/plain": [
       "numpy.ndarray"
      ]
     },
     "execution_count": 21,
     "metadata": {},
     "output_type": "execute_result"
    }
   ],
   "source": [
    "type(pop_diff)"
   ]
  },
  {
   "cell_type": "code",
   "execution_count": 22,
   "metadata": {},
   "outputs": [
    {
     "data": {
      "text/plain": [
       "(39,)"
      ]
     },
     "execution_count": 22,
     "metadata": {},
     "output_type": "execute_result"
    }
   ],
   "source": [
    "pop_diff.shape"
   ]
  },
  {
   "cell_type": "markdown",
   "metadata": {},
   "source": [
    "### Since it calculate the difference, the shape is one less than the 2D array"
   ]
  },
  {
   "cell_type": "code",
   "execution_count": null,
   "metadata": {},
   "outputs": [],
   "source": []
  }
 ],
 "metadata": {
  "kernelspec": {
   "display_name": "Python 3",
   "language": "python",
   "name": "python3"
  },
  "language_info": {
   "codemirror_mode": {
    "name": "ipython",
    "version": 3
   },
   "file_extension": ".py",
   "mimetype": "text/x-python",
   "name": "python",
   "nbconvert_exporter": "python",
   "pygments_lexer": "ipython3",
   "version": "3.7.2"
  }
 },
 "nbformat": 4,
 "nbformat_minor": 2
}
